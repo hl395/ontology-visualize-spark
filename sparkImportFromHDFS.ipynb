{
 "cells": [
  {
   "cell_type": "code",
   "execution_count": null,
   "metadata": {},
   "outputs": [],
   "source": [
    "import pixiedust\n",
    "\n",
    "if sc.version.startswith('1.6.'):  # Spark 1.6\n",
    "    pixiedust.installPackage(\"graphframes:graphframes:0.5.0-spark1.6-s_2.11\")\n",
    "elif sc.version.startswith('2.'):  # Spark 2.1, 2.0\n",
    "    pixiedust.installPackage(\"graphframes:graphframes:0.5.0-spark2.1-s_2.11\")\n",
    "\n",
    "\n",
    "pixiedust.installPackage(\"com.typesafe.scala-logging:scala-logging-api_2.11:2.1.2\")\n",
    "pixiedust.installPackage(\"com.typesafe.scala-logging:scala-logging-slf4j_2.11:2.1.2\")\n",
    "\n",
    "print(\"done\")\n"
   ]
  },
  {
   "cell_type": "code",
   "execution_count": 1,
   "metadata": {},
   "outputs": [],
   "source": [
    "from pyspark.sql import SparkSession\n",
    "from pyspark.sql import SQLContext\n",
    "\n",
    "# import os\n",
    "\n",
    "# os.environ['PYSPARK_SUBMIT_ARGS'] = '--packages graphframes:graphframes:0.5.0-spark2.1-s_2.11 pyspark-shell'\n",
    "\n",
    "\n",
    "# Build the SparkSession\n",
    "spark = SparkSession.builder \\\n",
    "   .master(\"local\") \\\n",
    "   .appName(\"sparkPlot\") \\\n",
    "   .config(\"spark.executor.memory\", \"2gb\") \\\n",
    "   .getOrCreate()\n",
    "\n",
    "# spark.conf.set(\"spark.jars.packages\", \"graphframes:graphframes:0.5.0-spark2.1-s_2.11\")\n",
    "sc = spark.sparkContext\n",
    "\n",
    "sqlContext=SQLContext(sc)"
   ]
  },
  {
   "cell_type": "code",
   "execution_count": 4,
   "metadata": {},
   "outputs": [],
   "source": [
    "from pyspark.sql.types import StructType, StructField\n",
    "from pyspark.sql.types import DoubleType, IntegerType, StringType\n",
    "\n",
    "schema = StructType([\n",
    "    StructField(\"ONT_NAME\", StringType()),\n",
    "    StructField(\"CLASS_IRI\", StringType()),\n",
    "    StructField(\"PARENT_CLASS_IRI\", StringType())\n",
    "])\n",
    "\n",
    "df= spark.read \\\n",
    "    .schema(schema) \\\n",
    "    .option(\"header\", \"true\") \\\n",
    "    .option(\"mode\", \"DROPMALFORMED\") \\\n",
    "    .csv(\"hdfs://localhost:9000/ONT_CLASS_HIERARCHY.csv\")"
   ]
  },
  {
   "cell_type": "code",
   "execution_count": 5,
   "metadata": {},
   "outputs": [
    {
     "name": "stdout",
     "output_type": "stream",
     "text": [
      "+-----------+--------------------+--------------------+\n",
      "|   ONT_NAME|           CLASS_IRI|    PARENT_CLASS_IRI|\n",
      "+-----------+--------------------+--------------------+\n",
      "|cheminf.owl|http://semanticsc...|http://semanticsc...|\n",
      "|cheminf.owl|http://semanticsc...|http://semanticsc...|\n",
      "|cheminf.owl|http://semanticsc...|http://semanticsc...|\n",
      "|cheminf.owl|http://purl.oboli...|http://purl.oboli...|\n",
      "|cheminf.owl|http://purl.oboli...|http://purl.oboli...|\n",
      "|cheminf.owl|http://purl.oboli...|http://purl.oboli...|\n",
      "|cheminf.owl|http://purl.oboli...|http://purl.oboli...|\n",
      "|cheminf.owl|http://purl.oboli...|http://purl.oboli...|\n",
      "|cheminf.owl|http://purl.oboli...|http://purl.oboli...|\n",
      "|cheminf.owl|http://www.ifomis...|http://www.ifomis...|\n",
      "|cheminf.owl|http://purl.oboli...|http://purl.oboli...|\n",
      "|cheminf.owl|http://purl.oboli...|http://purl.oboli...|\n",
      "|cheminf.owl|http://purl.oboli...|http://purl.oboli...|\n",
      "|cheminf.owl|http://purl.oboli...|http://www.w3.org...|\n",
      "|cheminf.owl|http://semanticsc...|http://semanticsc...|\n",
      "|cheminf.owl|http://semanticsc...|http://semanticsc...|\n",
      "|cheminf.owl|http://semanticsc...|http://semanticsc...|\n",
      "|cheminf.owl|http://semanticsc...|http://semanticsc...|\n",
      "|cheminf.owl|http://semanticsc...|http://semanticsc...|\n",
      "|cheminf.owl|http://semanticsc...|http://semanticsc...|\n",
      "+-----------+--------------------+--------------------+\n",
      "only showing top 20 rows\n",
      "\n"
     ]
    }
   ],
   "source": [
    "df.show()\n"
   ]
  },
  {
   "cell_type": "code",
   "execution_count": 6,
   "metadata": {},
   "outputs": [
    {
     "name": "stdout",
     "output_type": "stream",
     "text": [
      "root\n",
      " |-- ONT_NAME: string (nullable = true)\n",
      " |-- CLASS_IRI: string (nullable = true)\n",
      " |-- PARENT_CLASS_IRI: string (nullable = true)\n",
      "\n"
     ]
    }
   ],
   "source": [
    "df.printSchema()"
   ]
  },
  {
   "cell_type": "code",
   "execution_count": 11,
   "metadata": {},
   "outputs": [
    {
     "name": "stdout",
     "output_type": "stream",
     "text": [
      "+--------------------+-----+\n",
      "|           CLASS_IRI|count|\n",
      "+--------------------+-----+\n",
      "|http://www.biopax...|   77|\n",
      "|http://chem2bio2r...|   76|\n",
      "|http://www.owl-on...|   33|\n",
      "|http://www.owl-on...|   33|\n",
      "|http://www.owl-on...|   33|\n",
      "|http://www.owl-on...|   33|\n",
      "|http://www.owl-on...|   33|\n",
      "|http://www.owl-on...|   33|\n",
      "|http://www.owl-on...|   33|\n",
      "|http://www.owl-on...|   33|\n",
      "|http://www.owl-on...|   33|\n",
      "|http://www.owl-on...|   33|\n",
      "|http://www.owl-on...|   33|\n",
      "|http://www.owl-on...|   33|\n",
      "|http://www.owl-on...|   33|\n",
      "|http://www.owl-on...|   33|\n",
      "|http://www.owl-on...|   33|\n",
      "|http://www.owl-on...|   33|\n",
      "|http://www.owl-on...|   33|\n",
      "|http://www.owl-on...|   33|\n",
      "+--------------------+-----+\n",
      "only showing top 20 rows\n",
      "\n"
     ]
    }
   ],
   "source": [
    "df.groupBy(\"CLASS_IRI\").count().sort(\"count\", ascending=False).show()"
   ]
  },
  {
   "cell_type": "code",
   "execution_count": 12,
   "metadata": {},
   "outputs": [
    {
     "name": "stdout",
     "output_type": "stream",
     "text": [
      "root\n",
      " |-- ONT_NAME: string (nullable = true)\n",
      " |-- CLASS_IRI: string (nullable = true)\n",
      " |-- CLASS_LABEL: string (nullable = true)\n",
      "\n",
      "+-----------+------+\n",
      "|   ONT_NAME| count|\n",
      "+-----------+------+\n",
      "|   dron.owl|434664|\n",
      "|  chebi.obo|126431|\n",
      "|  ccont.owl| 20622|\n",
      "|   cseo.owl| 20086|\n",
      "|   doid.obo| 12490|\n",
      "|    bao.owl|  7126|\n",
      "|    ddo.owl|  6445|\n",
      "|    ato.obo|  6136|\n",
      "|dermlex.owl|  6107|\n",
      "|apaonto.owl|  6038|\n",
      "|    bto.obo|  5903|\n",
      "|  ctcae.owl|  3877|\n",
      "|    dcm.owl|  3735|\n",
      "|    bdo.owl|  3668|\n",
      "|  cogat.owl|  3640|\n",
      "|birnlex.owl|  3581|\n",
      "|  dermo.obo|  3522|\n",
      "|   edam.owl|  3295|\n",
      "|   chmo.owl|  2966|\n",
      "|    cmo.obo|  2762|\n",
      "+-----------+------+\n",
      "only showing top 20 rows\n",
      "\n"
     ]
    }
   ],
   "source": [
    "from pyspark.sql.types import StructType, StructField\n",
    "from pyspark.sql.types import DoubleType, IntegerType, StringType\n",
    "\n",
    "schema = StructType([\n",
    "    StructField(\"ONT_NAME\", StringType()),\n",
    "    StructField(\"CLASS_IRI\", StringType()),\n",
    "    StructField(\"CLASS_LABEL\", StringType())\n",
    "])\n",
    "\n",
    "df= spark.read \\\n",
    "    .schema(schema) \\\n",
    "    .option(\"header\", \"true\") \\\n",
    "    .option(\"mode\", \"DROPMALFORMED\") \\\n",
    "    .csv(\"hdfs://localhost:9000/ONT_CLASS_LABELS.csv\")\n",
    "\n",
    "    \n",
    "df.printSchema()\n",
    "df.groupBy(\"ONT_NAME\").count().sort(\"count\", ascending=False).show()"
   ]
  }
 ],
 "metadata": {
  "kernelspec": {
   "display_name": "Python with Pixiedust (Spark 2.2)",
   "language": "python",
   "name": "pythonwithpixiedustspark22"
  },
  "language_info": {
   "codemirror_mode": {
    "name": "ipython",
    "version": 3
   },
   "file_extension": ".py",
   "mimetype": "text/x-python",
   "name": "python",
   "nbconvert_exporter": "python",
   "pygments_lexer": "ipython3",
   "version": "3.5.2"
  }
 },
 "nbformat": 4,
 "nbformat_minor": 2
}
